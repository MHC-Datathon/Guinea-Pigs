{
 "cells": [
  {
   "cell_type": "markdown",
   "id": "def58f2b",
   "metadata": {},
   "source": [
    "# Download and Preview ACE Violations Dataset\n",
    "\n",
    "This notebook demonstrates how to robustly download a sample of the MTA Bus Automated Camera Enforcement Violations dataset using retry logic, and preview the data for further analysis."
   ]
  },
  {
   "cell_type": "markdown",
   "id": "5718e80b",
   "metadata": {},
   "source": [
    "## 1. Install and Import Required Libraries\n",
    "\n",
    "Install the 'requests' library if needed, and import all necessary libraries for data handling and visualization."
   ]
  },
  {
   "cell_type": "code",
   "execution_count": 1,
   "id": "afa9113d",
   "metadata": {},
   "outputs": [
    {
     "name": "stdout",
     "output_type": "stream",
     "text": [
      "Requirement already satisfied: requests in /Users/test/MTA-Datathon/.venv/lib/python3.12/site-packages (2.32.5)\n",
      "Requirement already satisfied: charset_normalizer<4,>=2 in /Users/test/MTA-Datathon/.venv/lib/python3.12/site-packages (from requests) (3.4.3)\n",
      "Requirement already satisfied: idna<4,>=2.5 in /Users/test/MTA-Datathon/.venv/lib/python3.12/site-packages (from requests) (3.10)\n",
      "Requirement already satisfied: urllib3<3,>=1.21.1 in /Users/test/MTA-Datathon/.venv/lib/python3.12/site-packages (from requests) (2.5.0)\n",
      "Requirement already satisfied: certifi>=2017.4.17 in /Users/test/MTA-Datathon/.venv/lib/python3.12/site-packages (from requests) (2025.8.3)\n",
      "Note: you may need to restart the kernel to use updated packages.\n",
      "Note: you may need to restart the kernel to use updated packages.\n"
     ]
    }
   ],
   "source": [
    "# Install requests if not already installed\n",
    "%pip install requests\n",
    "\n",
    "import time\n",
    "import requests\n",
    "import pandas as pd\n",
    "import numpy as np\n",
    "import matplotlib.pyplot as plt\n",
    "import seaborn as sns\n",
    "\n",
    "# Set visualization style\n",
    "sns.set(style='whitegrid')"
   ]
  },
  {
   "cell_type": "markdown",
   "id": "f251efc0",
   "metadata": {},
   "source": [
    "## 2. Define Dataset URL and Download with Retry Logic\n",
    "\n",
    "Define the URL for the ACE Violations dataset and implement robust retry logic to handle HTTP errors."
   ]
  },
  {
   "cell_type": "code",
   "execution_count": 2,
   "id": "bb01d9d3",
   "metadata": {},
   "outputs": [],
   "source": [
    "# Define the URL for the ACE Violations dataset\n",
    "violations_url = \"https://data.ny.gov/api/views/kh8p-hcbm/rows.csv?accessType=DOWNLOAD\"\n",
    "\n",
    "# Retry logic for downloading the dataset\n",
    "max_retries = 5\n",
    "for attempt in range(max_retries):\n",
    "    try:\n",
    "        response = requests.get(violations_url, stream=True)\n",
    "        if response.status_code == 503:\n",
    "            print(f\"HTTP 503 error, retrying in 5 seconds... (attempt {attempt+1}/{max_retries})\")\n",
    "            time.sleep(5)\n",
    "            continue\n",
    "        # If reachable, break loop\n",
    "        break\n",
    "    except Exception as e:\n",
    "        if attempt < max_retries - 1:\n",
    "            print(f\"Error: {e}, retrying in 5 seconds... (attempt {attempt+1}/{max_retries})\")\n",
    "            time.sleep(5)\n",
    "        else:\n",
    "            raise"
   ]
  },
  {
   "cell_type": "markdown",
   "id": "9efb25ab",
   "metadata": {},
   "source": [
    "## 3. Load a Sample of the ACE Violations Dataset\n",
    "\n",
    "Once the URL is reachable, load the first 10,000 rows into a DataFrame."
   ]
  },
  {
   "cell_type": "code",
   "execution_count": 3,
   "id": "08b84bc1",
   "metadata": {},
   "outputs": [],
   "source": [
    "# Load the first 10,000 rows into a DataFrame\n",
    "violations_sample = pd.read_csv(violations_url, nrows=10000)"
   ]
  },
  {
   "cell_type": "markdown",
   "id": "07772af1",
   "metadata": {},
   "source": [
    "## 4. Preview the Loaded Data\n",
    "\n",
    "Display the first few rows of the loaded DataFrame."
   ]
  },
  {
   "cell_type": "code",
   "execution_count": 4,
   "id": "599ca976",
   "metadata": {},
   "outputs": [
    {
     "data": {
      "text/html": [
       "<div>\n",
       "<style scoped>\n",
       "    .dataframe tbody tr th:only-of-type {\n",
       "        vertical-align: middle;\n",
       "    }\n",
       "\n",
       "    .dataframe tbody tr th {\n",
       "        vertical-align: top;\n",
       "    }\n",
       "\n",
       "    .dataframe thead th {\n",
       "        text-align: right;\n",
       "    }\n",
       "</style>\n",
       "<table border=\"1\" class=\"dataframe\">\n",
       "  <thead>\n",
       "    <tr style=\"text-align: right;\">\n",
       "      <th></th>\n",
       "      <th>Violation ID</th>\n",
       "      <th>Vehicle ID</th>\n",
       "      <th>First Occurrence</th>\n",
       "      <th>Last Occurrence</th>\n",
       "      <th>Violation Status</th>\n",
       "      <th>Violation Type</th>\n",
       "      <th>Bus Route ID</th>\n",
       "      <th>Violation Latitude</th>\n",
       "      <th>Violation Longitude</th>\n",
       "      <th>Stop ID</th>\n",
       "      <th>Stop Name</th>\n",
       "      <th>Bus Stop Latitude</th>\n",
       "      <th>Bus Stop Longitude</th>\n",
       "      <th>Violation Georeference</th>\n",
       "      <th>Bus Stop Georeference</th>\n",
       "    </tr>\n",
       "  </thead>\n",
       "  <tbody>\n",
       "    <tr>\n",
       "      <th>0</th>\n",
       "      <td>489749182</td>\n",
       "      <td>c5ae1411153b52556a1e648cc80d718aa519a4bdd189ab...</td>\n",
       "      <td>08/20/2025 11:12:08 PM</td>\n",
       "      <td>08/21/2025 12:24:08 AM</td>\n",
       "      <td>TECHNICAL ISSUE/OTHER</td>\n",
       "      <td>MOBILE BUS STOP</td>\n",
       "      <td>BX36</td>\n",
       "      <td>40.840509</td>\n",
       "      <td>-73.881189</td>\n",
       "      <td>102498</td>\n",
       "      <td>EAST TREMONT AV/VYSE AV</td>\n",
       "      <td>40.841076</td>\n",
       "      <td>-73.882483</td>\n",
       "      <td>POINT (-73.881189 40.840509)</td>\n",
       "      <td>POINT (-73.882483 40.841076)</td>\n",
       "    </tr>\n",
       "    <tr>\n",
       "      <th>1</th>\n",
       "      <td>489744714</td>\n",
       "      <td>df9044acf85cf55488aea4cd3ce1d0e17ef050551726b6...</td>\n",
       "      <td>08/20/2025 11:48:59 PM</td>\n",
       "      <td>08/20/2025 11:54:47 PM</td>\n",
       "      <td>EXEMPT - BUS/PARATRANSIT</td>\n",
       "      <td>MOBILE BUS STOP</td>\n",
       "      <td>BX28</td>\n",
       "      <td>40.874017</td>\n",
       "      <td>-73.890646</td>\n",
       "      <td>100080</td>\n",
       "      <td>PAUL AV/BEDFORD PARK BLVD</td>\n",
       "      <td>40.874629</td>\n",
       "      <td>-73.891539</td>\n",
       "      <td>POINT (-73.890646 40.874017)</td>\n",
       "      <td>POINT (-73.891539 40.874629)</td>\n",
       "    </tr>\n",
       "    <tr>\n",
       "      <th>2</th>\n",
       "      <td>489743631</td>\n",
       "      <td>eb5a337966ba65f66ab1db8e169d2446a4fb429b0efc63...</td>\n",
       "      <td>08/20/2025 10:33:13 PM</td>\n",
       "      <td>08/20/2025 11:56:02 PM</td>\n",
       "      <td>TECHNICAL ISSUE/OTHER</td>\n",
       "      <td>MOBILE DOUBLE PARKED</td>\n",
       "      <td>Q53+</td>\n",
       "      <td>40.721971</td>\n",
       "      <td>-73.867136</td>\n",
       "      <td>550473</td>\n",
       "      <td>WOODHAVEN BLVD/PENELOPE AV</td>\n",
       "      <td>40.722487</td>\n",
       "      <td>-73.867736</td>\n",
       "      <td>POINT (-73.867136 40.721971)</td>\n",
       "      <td>POINT (-73.867736 40.722487)</td>\n",
       "    </tr>\n",
       "    <tr>\n",
       "      <th>3</th>\n",
       "      <td>489741945</td>\n",
       "      <td>3f877f70d9b253515a945be807c9c62d5814949f810310...</td>\n",
       "      <td>08/20/2025 10:50:45 PM</td>\n",
       "      <td>08/20/2025 11:32:43 PM</td>\n",
       "      <td>EXEMPT - OTHER</td>\n",
       "      <td>MOBILE BUS STOP</td>\n",
       "      <td>Q44+</td>\n",
       "      <td>40.762529</td>\n",
       "      <td>-73.831728</td>\n",
       "      <td>501140</td>\n",
       "      <td>UNION ST/35 AV</td>\n",
       "      <td>40.765422</td>\n",
       "      <td>-73.827944</td>\n",
       "      <td>POINT (-73.831728 40.762529)</td>\n",
       "      <td>POINT (-73.827944 40.765422)</td>\n",
       "    </tr>\n",
       "    <tr>\n",
       "      <th>4</th>\n",
       "      <td>489741940</td>\n",
       "      <td>7feac037b62d591ffb1214e356157f3dd197fc22fee5bb...</td>\n",
       "      <td>08/20/2025 10:52:57 AM</td>\n",
       "      <td>08/20/2025 11:16:57 AM</td>\n",
       "      <td>EXEMPT - EMERGENCY VEHICLE</td>\n",
       "      <td>MOBILE BUS STOP</td>\n",
       "      <td>M101</td>\n",
       "      <td>40.815113</td>\n",
       "      <td>-73.955040</td>\n",
       "      <td>401458</td>\n",
       "      <td>AMSTERDAM AV/W 131 ST</td>\n",
       "      <td>40.816009</td>\n",
       "      <td>-73.954424</td>\n",
       "      <td>POINT (-73.95504 40.815113)</td>\n",
       "      <td>POINT (-73.954424 40.816009)</td>\n",
       "    </tr>\n",
       "  </tbody>\n",
       "</table>\n",
       "</div>"
      ],
      "text/plain": [
       "   Violation ID                                         Vehicle ID  \\\n",
       "0     489749182  c5ae1411153b52556a1e648cc80d718aa519a4bdd189ab...   \n",
       "1     489744714  df9044acf85cf55488aea4cd3ce1d0e17ef050551726b6...   \n",
       "2     489743631  eb5a337966ba65f66ab1db8e169d2446a4fb429b0efc63...   \n",
       "3     489741945  3f877f70d9b253515a945be807c9c62d5814949f810310...   \n",
       "4     489741940  7feac037b62d591ffb1214e356157f3dd197fc22fee5bb...   \n",
       "\n",
       "         First Occurrence         Last Occurrence            Violation Status  \\\n",
       "0  08/20/2025 11:12:08 PM  08/21/2025 12:24:08 AM       TECHNICAL ISSUE/OTHER   \n",
       "1  08/20/2025 11:48:59 PM  08/20/2025 11:54:47 PM    EXEMPT - BUS/PARATRANSIT   \n",
       "2  08/20/2025 10:33:13 PM  08/20/2025 11:56:02 PM       TECHNICAL ISSUE/OTHER   \n",
       "3  08/20/2025 10:50:45 PM  08/20/2025 11:32:43 PM              EXEMPT - OTHER   \n",
       "4  08/20/2025 10:52:57 AM  08/20/2025 11:16:57 AM  EXEMPT - EMERGENCY VEHICLE   \n",
       "\n",
       "         Violation Type Bus Route ID  Violation Latitude  Violation Longitude  \\\n",
       "0       MOBILE BUS STOP         BX36           40.840509           -73.881189   \n",
       "1       MOBILE BUS STOP         BX28           40.874017           -73.890646   \n",
       "2  MOBILE DOUBLE PARKED         Q53+           40.721971           -73.867136   \n",
       "3       MOBILE BUS STOP         Q44+           40.762529           -73.831728   \n",
       "4       MOBILE BUS STOP         M101           40.815113           -73.955040   \n",
       "\n",
       "   Stop ID                   Stop Name  Bus Stop Latitude  Bus Stop Longitude  \\\n",
       "0   102498     EAST TREMONT AV/VYSE AV          40.841076          -73.882483   \n",
       "1   100080   PAUL AV/BEDFORD PARK BLVD          40.874629          -73.891539   \n",
       "2   550473  WOODHAVEN BLVD/PENELOPE AV          40.722487          -73.867736   \n",
       "3   501140              UNION ST/35 AV          40.765422          -73.827944   \n",
       "4   401458       AMSTERDAM AV/W 131 ST          40.816009          -73.954424   \n",
       "\n",
       "         Violation Georeference         Bus Stop Georeference  \n",
       "0  POINT (-73.881189 40.840509)  POINT (-73.882483 40.841076)  \n",
       "1  POINT (-73.890646 40.874017)  POINT (-73.891539 40.874629)  \n",
       "2  POINT (-73.867136 40.721971)  POINT (-73.867736 40.722487)  \n",
       "3  POINT (-73.831728 40.762529)  POINT (-73.827944 40.765422)  \n",
       "4   POINT (-73.95504 40.815113)  POINT (-73.954424 40.816009)  "
      ]
     },
     "execution_count": 4,
     "metadata": {},
     "output_type": "execute_result"
    }
   ],
   "source": [
    "# Display the first few rows\n",
    "violations_sample.head()"
   ]
  },
  {
   "cell_type": "markdown",
   "id": "388c822a",
   "metadata": {},
   "source": [
    "## 1. Deeper Exploratory Data Analysis (EDA)\n",
    "\n",
    "Analyze violation counts by location, time, and type. Visualize distributions and trends."
   ]
  },
  {
   "cell_type": "code",
   "execution_count": 5,
   "id": "8a12d924",
   "metadata": {},
   "outputs": [
    {
     "data": {
      "image/png": "[encoded data removed]",
      "text/plain": [
       "<Figure size 1000x400 with 1 Axes>"
      ]
     },
     "metadata": {},
     "output_type": "display_data"
    }
   ],
   "source": [
    "# Top 10 locations by violation count (replace 'Location' with actual column name)\n",
    "if 'Location' in violations_sample.columns:\n",
    "    print(violations_sample['Location'].value_counts().head(10))\n",
    "\n",
    "# Violations by hour (replace 'Violation Time' with actual column name)\n",
    "if 'Violation Time' in violations_sample.columns:\n",
    "    violations_sample['hour'] = pd.to_datetime(violations_sample['Violation Time'], errors='coerce').dt.hour\n",
    "    violations_sample['hour'].value_counts().sort_index().plot(kind='bar', figsize=(10,4))\n",
    "    plt.title('Violations by Hour of Day')\n",
    "    plt.xlabel('Hour')\n",
    "    plt.ylabel('Count')\n",
    "    plt.show()\n",
    "\n",
    "# Violations by type (replace 'Violation Type' with actual column name)\n",
    "if 'Violation Type' in violations_sample.columns:\n",
    "    violations_sample['Violation Type'].value_counts().head(10).plot(kind='bar', figsize=(10,4))\n",
    "    plt.title('Top 10 Violation Types')\n",
    "    plt.ylabel('Count')\n",
    "    plt.show()"
   ]
  },
  {
   "cell_type": "markdown",
   "id": "a6619851",
   "metadata": {},
   "source": [
    "## 2. Data Cleaning\n",
    "\n",
    "Check for missing values, standardize columns, and remove duplicates."
   ]
  },
  {
   "cell_type": "code",
   "execution_count": 6,
   "id": "b5ff8878",
   "metadata": {},
   "outputs": [
    {
     "name": "stdout",
     "output_type": "stream",
     "text": [
      "Missing values per column:\n",
      "Violation ID              0\n",
      "Vehicle ID                8\n",
      "First Occurrence          0\n",
      "Last Occurrence           0\n",
      "Violation Status          0\n",
      "Violation Type            0\n",
      "Bus Route ID              0\n",
      "Violation Latitude        0\n",
      "Violation Longitude       0\n",
      "Stop ID                   0\n",
      "Stop Name                 0\n",
      "Bus Stop Latitude         0\n",
      "Bus Stop Longitude        0\n",
      "Violation Georeference    0\n",
      "Bus Stop Georeference     0\n",
      "dtype: int64\n",
      "Rows after removing duplicates: 10000\n"
     ]
    }
   ],
   "source": [
    "# Check for missing values\n",
    "print('Missing values per column:')\n",
    "print(violations_sample.isnull().sum())\n",
    "\n",
    "# Standardize column names\n",
    "violations_sample.columns = [col.lower().replace(' ', '_') for col in violations_sample.columns]\n",
    "\n",
    "# Remove duplicates\n",
    "violations_sample = violations_sample.drop_duplicates()\n",
    "print(f'Rows after removing duplicates: {len(violations_sample)}')"
   ]
  },
  {
   "cell_type": "markdown",
   "id": "17f615b9",
   "metadata": {},
   "source": [
    "## 3. Feature Engineering\n",
    "\n",
    "Create new features such as hour of day, day of week, or zone. Aggregate data as needed."
   ]
  },
  {
   "cell_type": "code",
   "execution_count": 7,
   "id": "3bef9d05",
   "metadata": {},
   "outputs": [
    {
     "name": "stdout",
     "output_type": "stream",
     "text": [
      "Top 10 stops by violation count:\n",
      "stop_id\n",
      "405069    163\n",
      "102750    142\n",
      "402740     93\n",
      "103748     84\n",
      "503018     77\n",
      "505257     64\n",
      "307426     58\n",
      "501140     56\n",
      "100080     54\n",
      "404949     54\n",
      "dtype: int64\n"
     ]
    }
   ],
   "source": [
    "# Create hour and day_of_week features if violation_time column exists\n",
    "if 'violation_time' in violations_sample.columns:\n",
    "    violations_sample['hour'] = pd.to_datetime(violations_sample['violation_time'], errors='coerce').dt.hour\n",
    "    violations_sample['day_of_week'] = pd.to_datetime(violations_sample['violation_time'], errors='coerce').dt.day_name()\n",
    "\n",
    "# Aggregate by stop_id if present\n",
    "if 'stop_id' in violations_sample.columns:\n",
    "    stop_counts = violations_sample.groupby('stop_id').size().sort_values(ascending=False)\n",
    "    print('Top 10 stops by violation count:')\n",
    "    print(stop_counts.head(10))"
   ]
  },
  {
   "cell_type": "markdown",
   "id": "df17597b",
   "metadata": {},
   "source": [
    "## 4. Geospatial Analysis\n",
    "\n",
    "Plot violations on a map using folium or geopandas. Overlay with meter pricing zones or other boundaries if available."
   ]
  },
  {
   "cell_type": "code",
   "execution_count": 8,
   "id": "57060f4d",
   "metadata": {},
   "outputs": [
    {
     "name": "stdout",
     "output_type": "stream",
     "text": [
      "Install folium to enable map plotting.\n"
     ]
    }
   ],
   "source": [
    "# Plot violations on a map using folium (if latitude/longitude columns exist)\n",
    "try:\n",
    "    import folium\n",
    "    if 'violation_latitude' in violations_sample.columns and 'violation_longitude' in violations_sample.columns:\n",
    "        # Center map on mean location\n",
    "        m = folium.Map(location=[violations_sample['violation_latitude'].mean(), violations_sample['violation_longitude'].mean()], zoom_start=11)\n",
    "        for _, row in violations_sample.head(100).iterrows():  # Plot only first 100 for speed\n",
    "            folium.CircleMarker(\n",
    "                location=[row['violation_latitude'], row['violation_longitude']],\n",
    "                radius=2,\n",
    "                color='red',\n",
    "                fill=True,\n",
    "                fill_opacity=0.5\n",
    "            ).add_to(m)\n",
    "        display(m)\n",
    "except ImportError:\n",
    "    print('Install folium to enable map plotting.')"
   ]
  },
  {
   "cell_type": "markdown",
   "id": "2dd48c3b",
   "metadata": {},
   "source": [
    "## 5. Correlation and Statistical Analysis\n",
    "\n",
    "Compute correlation matrices and visualize with heatmaps. Test hypotheses about relationships between features."
   ]
  },
  {
   "cell_type": "code",
   "execution_count": 9,
   "id": "7dbc2270",
   "metadata": {},
   "outputs": [
    {
     "data": {
      "image/png": "[encoded data removed]",
      "text/plain": [
       "<Figure size 800x600 with 2 Axes>"
      ]
     },
     "metadata": {},
     "output_type": "display_data"
    }
   ],
   "source": [
    "# Correlation matrix for numeric columns\n",
    "corr = violations_sample.corr(numeric_only=True)\n",
    "plt.figure(figsize=(8,6))\n",
    "sns.heatmap(corr, annot=True, cmap='coolwarm')\n",
    "plt.title('Correlation Matrix')\n",
    "plt.show()"
   ]
  },
  {
   "cell_type": "markdown",
   "id": "d240435c",
   "metadata": {},
   "source": [
    "## 6. Predictive Modeling (optional)\n",
    "\n",
    "Use scikit-learn for clustering or classification to predict hotspots or trends."
   ]
  },
  {
   "cell_type": "code",
   "execution_count": 10,
   "id": "7efdbb32",
   "metadata": {},
   "outputs": [
    {
     "name": "stdout",
     "output_type": "stream",
     "text": [
      "Requirement already satisfied: scikit-learn in /Users/test/MTA-Datathon/.venv/lib/python3.12/site-packages (1.7.2)\n",
      "Requirement already satisfied: numpy>=1.22.0 in /Users/test/MTA-Datathon/.venv/lib/python3.12/site-packages (from scikit-learn) (2.3.3)\n",
      "Requirement already satisfied: scipy>=1.8.0 in /Users/test/MTA-Datathon/.venv/lib/python3.12/site-packages (from scikit-learn) (1.16.2)\n",
      "Requirement already satisfied: joblib>=1.2.0 in /Users/test/MTA-Datathon/.venv/lib/python3.12/site-packages (from scikit-learn) (1.5.2)\n",
      "Requirement already satisfied: threadpoolctl>=3.1.0 in /Users/test/MTA-Datathon/.venv/lib/python3.12/site-packages (from scikit-learn) (3.6.0)\n",
      "Note: you may need to restart the kernel to use updated packages.\n",
      "Note: you may need to restart the kernel to use updated packages.\n",
      "Violation Latitude/Longitude columns not found for clustering.\n",
      "Violation Latitude/Longitude columns not found for clustering.\n"
     ]
    }
   ],
   "source": [
    "# Example: Clustering locations by violation count using KMeans\n",
    "%pip install scikit-learn\n",
    "\n",
    "from sklearn.cluster import KMeans\n",
    "from sklearn.preprocessing import StandardScaler\n",
    "\n",
    "# Prepare data for clustering (e.g., latitude, longitude, violation count)\n",
    "if 'Violation Latitude' in violations_sample.columns and 'Violation Longitude' in violations_sample.columns:\n",
    "    loc_df = violations_sample.groupby(['Violation Latitude', 'Violation Longitude']).size().reset_index(name='violation_count')\n",
    "    X = loc_df[['Violation Latitude', 'Violation Longitude', 'violation_count']]\n",
    "    X_scaled = StandardScaler().fit_transform(X)\n",
    "    \n",
    "    # Fit KMeans\n",
    "    kmeans = KMeans(n_clusters=4, random_state=42)\n",
    "    loc_df['cluster'] = kmeans.fit_predict(X_scaled)\n",
    "    \n",
    "    # Plot clusters\n",
    "    plt.figure(figsize=(8,6))\n",
    "    plt.scatter(loc_df['Violation Longitude'], loc_df['Violation Latitude'], c=loc_df['cluster'], cmap='tab10', alpha=0.7)\n",
    "    plt.xlabel('Violation Longitude')\n",
    "    plt.ylabel('Violation Latitude')\n",
    "    plt.title('KMeans Clusters of Violation Locations')\n",
    "    plt.show()\n",
    "else:\n",
    "    print('Violation Latitude/Longitude columns not found for clustering.')"
   ]
  },
  {
   "cell_type": "markdown",
   "id": "472fb92b",
   "metadata": {},
   "source": [
    "## 7. Reporting and Visualization\n",
    "\n",
    "Summarize findings, create dashboards, and export results as needed."
   ]
  },
  {
   "cell_type": "code",
   "execution_count": 11,
   "id": "a60ac17c",
   "metadata": {},
   "outputs": [
    {
     "name": "stdout",
     "output_type": "stream",
     "text": [
      "Cleaned data exported to ace_violations_cleaned.csv\n",
      "Total violations: 10000\n",
      "Unique locations: 1163\n"
     ]
    }
   ],
   "source": [
    "# Export cleaned and feature-engineered data\n",
    "output_path = 'ace_violations_cleaned.csv'\n",
    "violations_sample.to_csv(output_path, index=False)\n",
    "print(f'Cleaned data exported to {output_path}')\n",
    "\n",
    "# Example: Generate a simple summary report\n",
    "total_violations = len(violations_sample)\n",
    "unique_locations = violations_sample['stop_name'].nunique() if 'stop_name' in violations_sample.columns else 'N/A'\n",
    "print(f\"Total violations: {total_violations}\")\n",
    "print(f\"Unique locations: {unique_locations}\")\n",
    "\n",
    "# You can expand this section with more visualizations or dashboard code as needed."
   ]
  },
  {
   "cell_type": "markdown",
   "id": "646012e5",
   "metadata": {},
   "source": [
    "## 8. Advanced Pattern Discovery and Evidence-Based Analysis\n",
    "This section adds deeper analyses to help you uncover robust, actionable patterns and provide clear evidence for your team."
   ]
  },
  {
   "cell_type": "markdown",
   "id": "7c140e7f",
   "metadata": {},
   "source": [
    "### Advanced Analyses to Add:\n",
    "\n",
    "- Temporal trends (by day, week, month, year)\n",
    "\n",
    "- Spatial hotspots and clustering\n",
    "\n",
    "- Violation type patterns\n",
    "\n",
    "- Repeat offenders or locations\n",
    "\n",
    "- Impact of interventions (if applicable)\n",
    "\n",
    "- Anomaly detection\n",
    "\n",
    "- Statistical significance testing\n",
    "\n",
    "- Clear visualizations and summaries"
   ]
  },
  {
   "cell_type": "markdown",
   "id": "5d9b0b5a",
   "metadata": {},
   "source": [
    "#### Temporal Trends\n",
    "\n",
    "Analyze how violations change over time (by day, week, month, year) to spot seasonality or trends."
   ]
  },
  {
   "cell_type": "code",
   "execution_count": 12,
   "id": "2aa048bf",
   "metadata": {},
   "outputs": [
    {
     "name": "stdout",
     "output_type": "stream",
     "text": [
      "violation_time column not found for temporal analysis.\n"
     ]
    }
   ],
   "source": [
    "# Temporal trend analysis (by day, week, month, year)\n",
    "\n",
    "if 'violation_time' in violations_sample.columns:\n",
    "\n",
    "    violations_sample['violation_time'] = pd.to_datetime(violations_sample['violation_time'], errors='coerce')\n",
    "\n",
    "    violations_sample['date'] = violations_sample['violation_time'].dt.date\n",
    "\n",
    "    violations_sample['month'] = violations_sample['violation_time'].dt.to_period('M')\n",
    "\n",
    "    violations_sample['year'] = violations_sample['violation_time'].dt.year\n",
    "\n",
    "    \n",
    "    # Violations per day\n",
    "\n",
    "    daily_counts = violations_sample.groupby('date').size()\n",
    "\n",
    "    daily_counts.plot(figsize=(12,4), title='Violations per Day')\n",
    "\n",
    "    plt.xlabel('Date')\n",
    "\n",
    "    plt.ylabel('Count')\n",
    "\n",
    "    plt.show()\n",
    "\n",
    "    \n",
    "    # Violations per month\n",
    "\n",
    "    monthly_counts = violations_sample.groupby('month').size()\n",
    "\n",
    "    monthly_counts.plot(figsize=(10,4), title='Violations per Month')\n",
    "\n",
    "    plt.xlabel('Month')\n",
    "\n",
    "    plt.ylabel('Count')\n",
    "\n",
    "    plt.show()\n",
    "\n",
    "    \n",
    "    # Violations per year\n",
    "\n",
    "    yearly_counts = violations_sample.groupby('year').size()\n",
    "\n",
    "    yearly_counts.plot(kind='bar', figsize=(8,4), title='Violations per Year')\n",
    "\n",
    "    plt.xlabel('Year')\n",
    "\n",
    "    plt.ylabel('Count')\n",
    "\n",
    "    plt.show()\n",
    "\n",
    "else:\n",
    "\n",
    "    print('violation_time column not found for temporal analysis.')"
   ]
  },
  {
   "cell_type": "markdown",
   "id": "89294d90",
   "metadata": {},
   "source": [
    "#### Spatial Hotspots and Clustering\n",
    "\n",
    "Identify locations with consistently high violation rates and visualize spatial clusters."
   ]
  },
  {
   "cell_type": "code",
   "execution_count": 13,
   "id": "133ff5c1",
   "metadata": {},
   "outputs": [
    {
     "name": "stdout",
     "output_type": "stream",
     "text": [
      "Install folium and scikit-learn to enable spatial clustering.\n"
     ]
    }
   ],
   "source": [
    "# Spatial hotspot analysis and clustering\n",
    "\n",
    "try:\n",
    "\n",
    "    import folium\n",
    "\n",
    "    from sklearn.cluster import DBSCAN\n",
    "\n",
    "    \n",
    "    if 'violation_latitude' in violations_sample.columns and 'violation_longitude' in violations_sample.columns:\n",
    "\n",
    "        coords = violations_sample[['violation_latitude', 'violation_longitude']].dropna()\n",
    "\n",
    "        # DBSCAN clustering\n",
    "\n",
    "        db = DBSCAN(eps=0.01, min_samples=10).fit(coords)\n",
    "\n",
    "        coords['cluster'] = db.labels_\n",
    "\n",
    "        \n",
    "        # Plot clusters on map\n",
    "\n",
    "        m = folium.Map(location=[coords['violation_latitude'].mean(), coords['violation_longitude'].mean()], zoom_start=11)\n",
    "\n",
    "        for _, row in coords.iterrows():\n",
    "\n",
    "            color = 'red' if row['cluster'] != -1 else 'blue'\n",
    "\n",
    "            folium.CircleMarker([row['violation_latitude'], row['violation_longitude']], radius=2, color=color, fill=True, fill_opacity=0.5).add_to(m)\n",
    "\n",
    "        display(m)\n",
    "\n",
    "        \n",
    "        # Show top 10 hotspots\n",
    "\n",
    "        hotspot_counts = coords.groupby(['violation_latitude', 'violation_longitude']).size().sort_values(ascending=False).head(10)\n",
    "\n",
    "        print('Top 10 spatial hotspots (lat, lon):')\n",
    "\n",
    "        print(hotspot_counts)\n",
    "\n",
    "    else:\n",
    "\n",
    "        print('violation_latitude/violation_longitude columns not found for spatial analysis.')\n",
    "\n",
    "except ImportError:\n",
    "\n",
    "    print('Install folium and scikit-learn to enable spatial clustering.')"
   ]
  },
  {
   "cell_type": "markdown",
   "id": "da286473",
   "metadata": {},
   "source": [
    "#### Violation Type Patterns\n",
    "\n",
    "Compare the frequency and distribution of different violation types to identify common and rare types."
   ]
  },
  {
   "cell_type": "code",
   "execution_count": 14,
   "id": "6ddf19a9",
   "metadata": {},
   "outputs": [
    {
     "data": {
      "image/png": "[encoded data removed]",
      "text/plain": [
       "<Figure size 1200x400 with 1 Axes>"
      ]
     },
     "metadata": {},
     "output_type": "display_data"
    },
    {
     "name": "stdout",
     "output_type": "stream",
     "text": [
      "Top 5 violation types:\n",
      "violation_type\n",
      "MOBILE BUS STOP         4782\n",
      "MOBILE DOUBLE PARKED    3516\n",
      "MOBILE BUS LANE         1702\n",
      "Name: count, dtype: int64\n",
      "\n",
      "Least common 5 violation types:\n",
      "violation_type\n",
      "MOBILE BUS STOP         4782\n",
      "MOBILE DOUBLE PARKED    3516\n",
      "MOBILE BUS LANE         1702\n",
      "Name: count, dtype: int64\n"
     ]
    }
   ],
   "source": [
    "# Violation type pattern analysis\n",
    "\n",
    "if 'violation_type' in violations_sample.columns:\n",
    "\n",
    "    type_counts = violations_sample['violation_type'].value_counts()\n",
    "\n",
    "    type_counts.plot(kind='bar', figsize=(12,4), title='Violation Type Frequency')\n",
    "\n",
    "    plt.xlabel('Violation Type')\n",
    "\n",
    "    plt.ylabel('Count')\n",
    "\n",
    "    plt.show()\n",
    "\n",
    "    \n",
    "    # Show top 5 and bottom 5 types\n",
    "\n",
    "    print('Top 5 violation types:')\n",
    "\n",
    "    print(type_counts.head(5))\n",
    "\n",
    "    print('\\nLeast common 5 violation types:')\n",
    "\n",
    "    print(type_counts.tail(5))\n",
    "\n",
    "else:\n",
    "\n",
    "    print('violation_type column not found for type pattern analysis.')"
   ]
  },
  {
   "cell_type": "markdown",
   "id": "235bf71a",
   "metadata": {},
   "source": [
    "#### Repeat Offenders or Locations\n",
    "\n",
    "Find locations or vehicles with repeated violations to identify persistent issues."
   ]
  },
  {
   "cell_type": "code",
   "execution_count": 15,
   "id": "7ce5b095",
   "metadata": {},
   "outputs": [
    {
     "name": "stdout",
     "output_type": "stream",
     "text": [
      "Top 10 stops with most repeated violations:\n",
      "stop_id\n",
      "405069    163\n",
      "102750    142\n",
      "402740     93\n",
      "103748     84\n",
      "503018     77\n",
      "505257     64\n",
      "307426     58\n",
      "501140     56\n",
      "404949     54\n",
      "100080     54\n",
      "Name: count, dtype: int64\n"
     ]
    },
    {
     "data": {
      "image/png": "[encoded data removed]",
      "text/plain": [
       "<Figure size 800x400 with 1 Axes>"
      ]
     },
     "metadata": {},
     "output_type": "display_data"
    }
   ],
   "source": [
    "# Repeat offenders or locations analysis\n",
    "\n",
    "if 'stop_id' in violations_sample.columns:\n",
    "\n",
    "    repeat_stops = violations_sample['stop_id'].value_counts()\n",
    "\n",
    "    print('Top 10 stops with most repeated violations:')\n",
    "\n",
    "    print(repeat_stops.head(10))\n",
    "\n",
    "    repeat_stops.hist(bins=30, figsize=(8,4))\n",
    "\n",
    "    plt.title('Distribution of Violations per Stop')\n",
    "\n",
    "    plt.xlabel('Violations per Stop')\n",
    "\n",
    "    plt.ylabel('Number of Stops')\n",
    "\n",
    "    plt.show()\n",
    "\n",
    "elif 'vehicle_id' in violations_sample.columns:\n",
    "\n",
    "    repeat_vehicles = violations_sample['vehicle_id'].value_counts()\n",
    "\n",
    "    print('Top 10 vehicles with most repeated violations:')\n",
    "\n",
    "    print(repeat_vehicles.head(10))\n",
    "\n",
    "    repeat_vehicles.hist(bins=30, figsize=(8,4))\n",
    "\n",
    "    plt.title('Distribution of Violations per Vehicle')\n",
    "\n",
    "    plt.xlabel('Violations per Vehicle')\n",
    "\n",
    "    plt.ylabel('Number of Vehicles')\n",
    "\n",
    "    plt.show()\n",
    "\n",
    "else:\n",
    "\n",
    "    print('stop_id or vehicle_id column not found for repeat analysis.')"
   ]
  },
  {
   "cell_type": "markdown",
   "id": "6fb184ce",
   "metadata": {},
   "source": [
    "#### Anomaly Detection\n",
    "\n",
    "Identify outliers or unusual spikes in violations to spot rare events or data issues."
   ]
  },
  {
   "cell_type": "code",
   "execution_count": 16,
   "id": "b4331806",
   "metadata": {},
   "outputs": [
    {
     "name": "stdout",
     "output_type": "stream",
     "text": [
      "date column not found for anomaly detection.\n"
     ]
    }
   ],
   "source": [
    "# Anomaly detection in daily violation counts\n",
    "\n",
    "if 'date' in violations_sample.columns:\n",
    "\n",
    "    daily_counts = violations_sample.groupby('date').size()\n",
    "\n",
    "    z_scores = (daily_counts - daily_counts.mean()) / daily_counts.std()\n",
    "\n",
    "    anomalies = daily_counts[z_scores.abs() > 3]  # 3-sigma rule\n",
    "\n",
    "    \n",
    "    plt.figure(figsize=(12,4))\n",
    "\n",
    "    daily_counts.plot(label='Daily Counts')\n",
    "\n",
    "    plt.scatter(anomalies.index, anomalies.values, color='red', label='Anomalies')\n",
    "\n",
    "    plt.title('Anomaly Detection in Daily Violations')\n",
    "\n",
    "    plt.xlabel('Date')\n",
    "\n",
    "    plt.ylabel('Count')\n",
    "\n",
    "    plt.legend()\n",
    "\n",
    "    plt.show()\n",
    "\n",
    "    \n",
    "    print('Anomalous days (z-score > 3):')\n",
    "\n",
    "    print(anomalies)\n",
    "\n",
    "else:\n",
    "\n",
    "    print('date column not found for anomaly detection.')"
   ]
  },
  {
   "cell_type": "markdown",
   "id": "f723241d",
   "metadata": {},
   "source": [
    "#### Statistical Significance Testing\n",
    "\n",
    "Use statistical tests to confirm that observed patterns are not due to random chance."
   ]
  },
  {
   "cell_type": "code",
   "execution_count": 17,
   "id": "a633ae59",
   "metadata": {},
   "outputs": [
    {
     "name": "stdout",
     "output_type": "stream",
     "text": [
      "Set intervention_date and ensure date column exists for significance testing.\n"
     ]
    }
   ],
   "source": [
    "# Statistical significance testing example: t-test for before/after intervention\n",
    "\n",
    "from scipy.stats import ttest_ind\n",
    "\n",
    "\n",
    "\n",
    "# Example: Suppose an intervention date is known\n",
    "\n",
    "intervention_date = None  # Replace with actual date, e.g., '2023-01-01'\n",
    "\n",
    "if intervention_date and 'date' in violations_sample.columns:\n",
    "\n",
    "    before = violations_sample[violations_sample['date'] < pd.to_datetime(intervention_date)]['date']\n",
    "\n",
    "    after = violations_sample[violations_sample['date'] >= pd.to_datetime(intervention_date)]['date']\n",
    "\n",
    "    before_counts = before.value_counts()\n",
    "\n",
    "    after_counts = after.value_counts()\n",
    "\n",
    "    t_stat, p_val = ttest_ind(before_counts, after_counts, equal_var=False)\n",
    "\n",
    "    print(f'T-test statistic: {t_stat:.2f}, p-value: {p_val:.4f}')\n",
    "\n",
    "    if p_val < 0.05:\n",
    "\n",
    "        print('Difference in means is statistically significant.')\n",
    "\n",
    "    else:\n",
    "\n",
    "        print('No statistically significant difference detected.')\n",
    "\n",
    "else:\n",
    "\n",
    "    print('Set intervention_date and ensure date column exists for significance testing.')"
   ]
  },
  {
   "cell_type": "markdown",
   "id": "06c56258",
   "metadata": {},
   "source": [
    "#### Clear Visualizations and Summaries\n",
    "\n",
    "Summarize key findings with clear visuals and concise bullet points for your team."
   ]
  },
  {
   "cell_type": "markdown",
   "id": "af260b4b",
   "metadata": {},
   "source": [
    "**Summary of Key Findings:**\n",
    "\n",
    "- List the most important patterns you discovered (e.g., top hotspots, time trends, repeat offenders).\n",
    "\n",
    "- For each, include a brief explanation and reference the supporting plot or table above.\n",
    "\n",
    "**Evidence:**\n",
    "\n",
    "- Use visuals (plots, maps) and statistical results (p-values, effect sizes) to back up your claims.\n",
    "\n",
    "**Actionable Insights:**\n",
    "\n",
    "- Suggest next steps or recommendations for your team based on the evidence."
   ]
  },
  {
   "cell_type": "code",
   "execution_count": 18,
   "id": "912d1d56",
   "metadata": {},
   "outputs": [
    {
     "name": "stdout",
     "output_type": "stream",
     "text": [
      "Available columns:\n",
      "['violation_id', 'vehicle_id', 'first_occurrence', 'last_occurrence', 'violation_status', 'violation_type', 'bus_route_id', 'violation_latitude', 'violation_longitude', 'stop_id', 'stop_name', 'bus_stop_latitude', 'bus_stop_longitude', 'violation_georeference', 'bus_stop_georeference']\n",
      "No column found for 'violation_time'. Consider renaming or creating one if needed.\n",
      "Column(s) for 'violation_latitude': ['violation_latitude']\n",
      "Column(s) for 'violation_longitude': ['violation_longitude']\n",
      "Column(s) for 'violation_type': ['violation_type']\n",
      "Column(s) for 'stop_id': ['stop_id']\n",
      "Column(s) for 'vehicle_id': ['vehicle_id']\n"
     ]
    }
   ],
   "source": [
    "# Display available columns and suggest mappings for analysis\n",
    "\n",
    "print('Available columns:')\n",
    "\n",
    "print(list(violations_sample.columns))\n",
    "\n",
    "\n",
    "# Suggest mappings for expected columns\n",
    "\n",
    "expected = {\n",
    "\n",
    "    'violation_time': ['violation_time', 'Violation Time', 'date_time', 'timestamp'],\n",
    "\n",
    "    'violation_latitude': ['violation_latitude', 'Violation Latitude', 'latitude', 'lat'],\n",
    "\n",
    "    'violation_longitude': ['violation_longitude', 'Violation Longitude', 'longitude', 'lon', 'lng'],\n",
    "\n",
    "    'violation_type': ['violation_type', 'Violation Type', 'type'],\n",
    "\n",
    "    'stop_id': ['stop_id', 'Stop ID', 'location_id'],\n",
    "\n",
    "    'vehicle_id': ['vehicle_id', 'Vehicle ID', 'plate', 'bus_id', 'license_plate'],\n",
    "\n",
    "}\n",
    "\n",
    "for key, options in expected.items():\n",
    "\n",
    "    found = [col for col in violations_sample.columns if col.lower() in [o.lower() for o in options]]\n",
    "\n",
    "    if found:\n",
    "\n",
    "        print(f\"Column(s) for '{key}': {found}\")\n",
    "\n",
    "    else:\n",
    "\n",
    "        print(f\"No column found for '{key}'. Consider renaming or creating one if needed.\")"
   ]
  },
  {
   "cell_type": "markdown",
   "id": "0ec86573",
   "metadata": {},
   "source": [
    "## 9. Data Exploration and Results Summary Diagram\n",
    "\n",
    "This diagram summarizes the main analysis steps, key findings, and suggested next steps for exploring the MTA ACE Violations dataset."
   ]
  },
  {
   "cell_type": "markdown",
   "id": "58e2c9c3",
   "metadata": {},
   "source": [
    "```mermaid\n",
    "\n",
    "graph TD\n",
    "\n",
    "    A[Start: Load Data] --> B[Preview & Clean Data]\n",
    "\n",
    "    B --> C[Feature Engineering]\n",
    "\n",
    "    C --> D[Exploratory Data Analysis]\n",
    "\n",
    "    D --> E[Temporal Trends]\n",
    "\n",
    "    D --> F[Spatial Hotspots]\n",
    "\n",
    "    D --> G[Violation Type Patterns]\n",
    "\n",
    "    D --> H[Repeat Offenders/Locations]\n",
    "\n",
    "    D --> I[Anomaly Detection]\n",
    "\n",
    "    D --> J[Statistical Testing]\n",
    "\n",
    "    E --> K[Key Finding: Time-based patterns]\n",
    "\n",
    "    F --> L[Key Finding: Location hotspots]\n",
    "\n",
    "    G --> M[Key Finding: Common violation types]\n",
    "\n",
    "    H --> N[Key Finding: Repeat offenders/locations]\n",
    "\n",
    "    I --> O[Key Finding: Anomalies/spikes]\n",
    "\n",
    "    J --> P[Key Finding: Significant differences]\n",
    "\n",
    "    K & L & M & N & O & P --> Q[Summary & Recommendations]\n",
    "\n",
    "    Q --> R[Next Steps: Deeper Analysis, Reporting, Dashboarding]\n",
    "\n",
    "```\n",
    "\n",
    "\n",
    "*This diagram shows the flow of analysis, how each step leads to key findings, and how results can guide further exploration or reporting.*"
   ]
  }
 ],
 "metadata": {
  "kernelspec": {
   "display_name": ".venv",
   "language": "python",
   "name": "python3"
  },
  "language_info": {
   "codemirror_mode": {
    "name": "ipython",
    "version": 3
   },
   "file_extension": ".py",
   "mimetype": "text/x-python",
   "name": "python",
   "nbconvert_exporter": "python",
   "pygments_lexer": "ipython3",
   "version": "3.12.11"
  }
 },
 "nbformat": 4,
 "nbformat_minor": 5
}
