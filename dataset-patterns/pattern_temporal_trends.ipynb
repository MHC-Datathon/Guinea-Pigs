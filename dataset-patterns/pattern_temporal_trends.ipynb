{
 "cells": [
  {
   "cell_type": "markdown",
   "id": "b9fe72fd",
   "metadata": {},
   "source": [
    "# Temporal Trends: Analyzing Time-Based Patterns\n",
    "\n",
    "This notebook explores temporal patterns in MTA violation data, including hourly, daily, and weekday/weekend trends. We will visualize peaks, state a hypothesis, and summarize findings."
   ]
  },
  {
   "cell_type": "markdown",
   "id": "89d92ed2",
   "metadata": {},
   "source": [
    "## 1. Import Required Libraries\n",
    "\n",
    "We will use pandas, numpy, matplotlib, seaborn for analysis and visualization."
   ]
  },
  {
   "cell_type": "code",
   "execution_count": 7,
   "id": "55d1066a",
   "metadata": {},
   "outputs": [],
   "source": [
    "# Import required libraries\n",
    "import pandas as pd\n",
    "import numpy as np\n",
    "import matplotlib.pyplot as plt\n",
    "import seaborn as sns\n",
    "\n",
    "sns.set(style='whitegrid')"
   ]
  },
  {
   "cell_type": "markdown",
   "id": "971cd052",
   "metadata": {},
   "source": [
    "## 2. Load the MTA Bus Automated Camera Enforcement Violations Dataset\n",
    "\n",
    "We will load a sample of the dataset and print columns to identify time-related fields."
   ]
  },
  {
   "cell_type": "code",
   "execution_count": 8,
   "id": "564c247f",
   "metadata": {},
   "outputs": [
    {
     "name": "stdout",
     "output_type": "stream",
     "text": [
      "Columns in violations_df:\n",
      "['Violation ID', 'Vehicle ID', 'First Occurrence', 'Last Occurrence', 'Violation Status', 'Violation Type', 'Bus Route ID', 'Violation Latitude', 'Violation Longitude', 'Stop ID', 'Stop Name', 'Bus Stop Latitude', 'Bus Stop Longitude', 'Violation Georeference', 'Bus Stop Georeference']\n"
     ]
    },
    {
     "data": {
      "text/html": [
       "<div>\n",
       "<style scoped>\n",
       "    .dataframe tbody tr th:only-of-type {\n",
       "        vertical-align: middle;\n",
       "    }\n",
       "\n",
       "    .dataframe tbody tr th {\n",
       "        vertical-align: top;\n",
       "    }\n",
       "\n",
       "    .dataframe thead th {\n",
       "        text-align: right;\n",
       "    }\n",
       "</style>\n",
       "<table border=\"1\" class=\"dataframe\">\n",
       "  <thead>\n",
       "    <tr style=\"text-align: right;\">\n",
       "      <th></th>\n",
       "      <th>Violation ID</th>\n",
       "      <th>Vehicle ID</th>\n",
       "      <th>First Occurrence</th>\n",
       "      <th>Last Occurrence</th>\n",
       "      <th>Violation Status</th>\n",
       "      <th>Violation Type</th>\n",
       "      <th>Bus Route ID</th>\n",
       "      <th>Violation Latitude</th>\n",
       "      <th>Violation Longitude</th>\n",
       "      <th>Stop ID</th>\n",
       "      <th>Stop Name</th>\n",
       "      <th>Bus Stop Latitude</th>\n",
       "      <th>Bus Stop Longitude</th>\n",
       "      <th>Violation Georeference</th>\n",
       "      <th>Bus Stop Georeference</th>\n",
       "    </tr>\n",
       "  </thead>\n",
       "  <tbody>\n",
       "    <tr>\n",
       "      <th>0</th>\n",
       "      <td>489749182</td>\n",
       "      <td>c5ae1411153b52556a1e648cc80d718aa519a4bdd189ab...</td>\n",
       "      <td>08/20/2025 11:12:08 PM</td>\n",
       "      <td>08/21/2025 12:24:08 AM</td>\n",
       "      <td>TECHNICAL ISSUE/OTHER</td>\n",
       "      <td>MOBILE BUS STOP</td>\n",
       "      <td>BX36</td>\n",
       "      <td>40.840509</td>\n",
       "      <td>-73.881189</td>\n",
       "      <td>102498</td>\n",
       "      <td>EAST TREMONT AV/VYSE AV</td>\n",
       "      <td>40.841076</td>\n",
       "      <td>-73.882483</td>\n",
       "      <td>POINT (-73.881189 40.840509)</td>\n",
       "      <td>POINT (-73.882483 40.841076)</td>\n",
       "    </tr>\n",
       "    <tr>\n",
       "      <th>1</th>\n",
       "      <td>489744714</td>\n",
       "      <td>df9044acf85cf55488aea4cd3ce1d0e17ef050551726b6...</td>\n",
       "      <td>08/20/2025 11:48:59 PM</td>\n",
       "      <td>08/20/2025 11:54:47 PM</td>\n",
       "      <td>EXEMPT - BUS/PARATRANSIT</td>\n",
       "      <td>MOBILE BUS STOP</td>\n",
       "      <td>BX28</td>\n",
       "      <td>40.874017</td>\n",
       "      <td>-73.890646</td>\n",
       "      <td>100080</td>\n",
       "      <td>PAUL AV/BEDFORD PARK BLVD</td>\n",
       "      <td>40.874629</td>\n",
       "      <td>-73.891539</td>\n",
       "      <td>POINT (-73.890646 40.874017)</td>\n",
       "      <td>POINT (-73.891539 40.874629)</td>\n",
       "    </tr>\n",
       "    <tr>\n",
       "      <th>2</th>\n",
       "      <td>489743631</td>\n",
       "      <td>eb5a337966ba65f66ab1db8e169d2446a4fb429b0efc63...</td>\n",
       "      <td>08/20/2025 10:33:13 PM</td>\n",
       "      <td>08/20/2025 11:56:02 PM</td>\n",
       "      <td>TECHNICAL ISSUE/OTHER</td>\n",
       "      <td>MOBILE DOUBLE PARKED</td>\n",
       "      <td>Q53+</td>\n",
       "      <td>40.721971</td>\n",
       "      <td>-73.867136</td>\n",
       "      <td>550473</td>\n",
       "      <td>WOODHAVEN BLVD/PENELOPE AV</td>\n",
       "      <td>40.722487</td>\n",
       "      <td>-73.867736</td>\n",
       "      <td>POINT (-73.867136 40.721971)</td>\n",
       "      <td>POINT (-73.867736 40.722487)</td>\n",
       "    </tr>\n",
       "    <tr>\n",
       "      <th>3</th>\n",
       "      <td>489741945</td>\n",
       "      <td>3f877f70d9b253515a945be807c9c62d5814949f810310...</td>\n",
       "      <td>08/20/2025 10:50:45 PM</td>\n",
       "      <td>08/20/2025 11:32:43 PM</td>\n",
       "      <td>EXEMPT - OTHER</td>\n",
       "      <td>MOBILE BUS STOP</td>\n",
       "      <td>Q44+</td>\n",
       "      <td>40.762529</td>\n",
       "      <td>-73.831728</td>\n",
       "      <td>501140</td>\n",
       "      <td>UNION ST/35 AV</td>\n",
       "      <td>40.765422</td>\n",
       "      <td>-73.827944</td>\n",
       "      <td>POINT (-73.831728 40.762529)</td>\n",
       "      <td>POINT (-73.827944 40.765422)</td>\n",
       "    </tr>\n",
       "    <tr>\n",
       "      <th>4</th>\n",
       "      <td>489741940</td>\n",
       "      <td>7feac037b62d591ffb1214e356157f3dd197fc22fee5bb...</td>\n",
       "      <td>08/20/2025 10:52:57 AM</td>\n",
       "      <td>08/20/2025 11:16:57 AM</td>\n",
       "      <td>EXEMPT - EMERGENCY VEHICLE</td>\n",
       "      <td>MOBILE BUS STOP</td>\n",
       "      <td>M101</td>\n",
       "      <td>40.815113</td>\n",
       "      <td>-73.955040</td>\n",
       "      <td>401458</td>\n",
       "      <td>AMSTERDAM AV/W 131 ST</td>\n",
       "      <td>40.816009</td>\n",
       "      <td>-73.954424</td>\n",
       "      <td>POINT (-73.95504 40.815113)</td>\n",
       "      <td>POINT (-73.954424 40.816009)</td>\n",
       "    </tr>\n",
       "  </tbody>\n",
       "</table>\n",
       "</div>"
      ],
      "text/plain": [
       "   Violation ID                                         Vehicle ID  \\\n",
       "0     489749182  c5ae1411153b52556a1e648cc80d718aa519a4bdd189ab...   \n",
       "1     489744714  df9044acf85cf55488aea4cd3ce1d0e17ef050551726b6...   \n",
       "2     489743631  eb5a337966ba65f66ab1db8e169d2446a4fb429b0efc63...   \n",
       "3     489741945  3f877f70d9b253515a945be807c9c62d5814949f810310...   \n",
       "4     489741940  7feac037b62d591ffb1214e356157f3dd197fc22fee5bb...   \n",
       "\n",
       "         First Occurrence         Last Occurrence            Violation Status  \\\n",
       "0  08/20/2025 11:12:08 PM  08/21/2025 12:24:08 AM       TECHNICAL ISSUE/OTHER   \n",
       "1  08/20/2025 11:48:59 PM  08/20/2025 11:54:47 PM    EXEMPT - BUS/PARATRANSIT   \n",
       "2  08/20/2025 10:33:13 PM  08/20/2025 11:56:02 PM       TECHNICAL ISSUE/OTHER   \n",
       "3  08/20/2025 10:50:45 PM  08/20/2025 11:32:43 PM              EXEMPT - OTHER   \n",
       "4  08/20/2025 10:52:57 AM  08/20/2025 11:16:57 AM  EXEMPT - EMERGENCY VEHICLE   \n",
       "\n",
       "         Violation Type Bus Route ID  Violation Latitude  Violation Longitude  \\\n",
       "0       MOBILE BUS STOP         BX36           40.840509           -73.881189   \n",
       "1       MOBILE BUS STOP         BX28           40.874017           -73.890646   \n",
       "2  MOBILE DOUBLE PARKED         Q53+           40.721971           -73.867136   \n",
       "3       MOBILE BUS STOP         Q44+           40.762529           -73.831728   \n",
       "4       MOBILE BUS STOP         M101           40.815113           -73.955040   \n",
       "\n",
       "   Stop ID                   Stop Name  Bus Stop Latitude  Bus Stop Longitude  \\\n",
       "0   102498     EAST TREMONT AV/VYSE AV          40.841076          -73.882483   \n",
       "1   100080   PAUL AV/BEDFORD PARK BLVD          40.874629          -73.891539   \n",
       "2   550473  WOODHAVEN BLVD/PENELOPE AV          40.722487          -73.867736   \n",
       "3   501140              UNION ST/35 AV          40.765422          -73.827944   \n",
       "4   401458       AMSTERDAM AV/W 131 ST          40.816009          -73.954424   \n",
       "\n",
       "         Violation Georeference         Bus Stop Georeference  \n",
       "0  POINT (-73.881189 40.840509)  POINT (-73.882483 40.841076)  \n",
       "1  POINT (-73.890646 40.874017)  POINT (-73.891539 40.874629)  \n",
       "2  POINT (-73.867136 40.721971)  POINT (-73.867736 40.722487)  \n",
       "3  POINT (-73.831728 40.762529)  POINT (-73.827944 40.765422)  \n",
       "4   POINT (-73.95504 40.815113)  POINT (-73.954424 40.816009)  "
      ]
     },
     "metadata": {},
     "output_type": "display_data"
    }
   ],
   "source": [
    "# Load the MTA Bus Automated Camera Enforcement Violations dataset\n",
    "violations_url = \"https://data.ny.gov/api/views/kh8p-hcbm/rows.csv?accessType=DOWNLOAD\"\n",
    "violations_df = pd.read_csv(violations_url, nrows=10000)\n",
    "\n",
    "print('Columns in violations_df:')\n",
    "print(violations_df.columns.tolist())\n",
    "display(violations_df.head())"
   ]
  },
  {
   "cell_type": "code",
   "execution_count": 9,
   "id": "08363729",
   "metadata": {},
   "outputs": [],
   "source": [
    "# Diagnostic: Check non-null and unique counts for likely time columns\n",
    "likely_time_keys = ['date', 'time', 'day', 'hour', 'weekday']\n",
    "for key in likely_time_keys:\n",
    "    matches = [col for col in violations_df.columns if key in col.lower()]\n",
    "    for col in matches:\n",
    "        non_null = violations_df[col].notnull().sum()\n",
    "        unique = violations_df[col].nunique()\n",
    "        print(f\"{col}: non-null={non_null}, unique={unique}\")"
   ]
  },
  {
   "cell_type": "markdown",
   "id": "6b7d17f6",
   "metadata": {},
   "source": [
    "## 3. Extract and Parse Time Columns\n",
    "\n",
    "We will extract and parse date/time columns for temporal analysis."
   ]
  },
  {
   "cell_type": "code",
   "execution_count": 10,
   "id": "c867244a",
   "metadata": {},
   "outputs": [
    {
     "name": "stdout",
     "output_type": "stream",
     "text": [
      "No date column found.\n"
     ]
    }
   ],
   "source": [
    "# Extract and parse date/time columns\n",
    "import warnings\n",
    "warnings.filterwarnings('ignore')\n",
    "date_col = next((col for col in violations_df.columns if 'date' in col.lower()), None)\n",
    "time_col = next((col for col in violations_df.columns if 'time' in col.lower()), None)\n",
    "if date_col:\n",
    "    violations_df[date_col] = pd.to_datetime(violations_df[date_col], errors='coerce')\n",
    "    violations_df['hour'] = violations_df[date_col].dt.hour\n",
    "    violations_df['dayofweek'] = violations_df[date_col].dt.dayofweek\n",
    "    violations_df['weekday'] = violations_df['dayofweek'].map({0:'Mon',1:'Tue',2:'Wed',3:'Thu',4:'Fri',5:'Sat',6:'Sun'})\n",
    "    violations_df['date_only'] = violations_df[date_col].dt.date\n",
    "else:\n",
    "    print('No date column found.')"
   ]
  },
  {
   "cell_type": "markdown",
   "id": "3d49c6ea",
   "metadata": {},
   "source": [
    "## 4. Visualize Temporal Patterns\n",
    "\n",
    "We will visualize hourly, daily, and weekday/weekend trends in violation counts."
   ]
  },
  {
   "cell_type": "code",
   "execution_count": 11,
   "id": "1fbc9ec8",
   "metadata": {},
   "outputs": [
    {
     "name": "stdout",
     "output_type": "stream",
     "text": [
      "Hour column not available.\n",
      "Date column not available.\n",
      "Weekday column not available.\n"
     ]
    }
   ],
   "source": [
    "# Hourly trend\n",
    "if 'hour' in violations_df.columns:\n",
    "    plt.figure(figsize=(10,4))\n",
    "    sns.histplot(violations_df['hour'].dropna(), bins=24, kde=False)\n",
    "    plt.title('Violations by Hour of Day')\n",
    "    plt.xlabel('Hour')\n",
    "    plt.ylabel('Count')\n",
    "    plt.show()\n",
    "else:\n",
    "    print('Hour column not available.')\n",
    "\n",
    "# Daily trend\n",
    "if 'date_only' in violations_df.columns:\n",
    "    daily_counts = violations_df['date_only'].value_counts().sort_index()\n",
    "    plt.figure(figsize=(12,4))\n",
    "    daily_counts.plot()\n",
    "    plt.title('Violations by Date')\n",
    "    plt.xlabel('Date')\n",
    "    plt.ylabel('Count')\n",
    "    plt.tight_layout()\n",
    "    plt.show()\n",
    "else:\n",
    "    print('Date column not available.')\n",
    "\n",
    "# Weekday trend\n",
    "if 'weekday' in violations_df.columns:\n",
    "    weekday_counts = violations_df['weekday'].value_counts().reindex(['Mon','Tue','Wed','Thu','Fri','Sat','Sun'])\n",
    "    plt.figure(figsize=(8,4))\n",
    "    sns.barplot(x=weekday_counts.index, y=weekday_counts.values)\n",
    "    plt.title('Violations by Weekday')\n",
    "    plt.xlabel('Weekday')\n",
    "    plt.ylabel('Count')\n",
    "    plt.show()\n",
    "else:\n",
    "    print('Weekday column not available.')"
   ]
  },
  {
   "cell_type": "markdown",
   "id": "01e88cc0",
   "metadata": {},
   "source": [
    "## 5. Fallback: Aggregate by Any Available Time Columns\n",
    "\n",
    "If standard time columns are missing, aggregate by any available time-related columns."
   ]
  },
  {
   "cell_type": "code",
   "execution_count": 14,
   "id": "bd3cf7fe",
   "metadata": {},
   "outputs": [],
   "source": [
    "# Fallback: Aggregate by any available time-related columns\n",
    "fallback_keys = [col for col in violations_df.columns if any(k in col.lower() for k in ['date', 'time', 'day', 'hour', 'weekday'])]\n",
    "for key in fallback_keys:\n",
    "    counts = violations_df[key].value_counts().head(20)\n",
    "    print(f\"Top 20 by {key}:\")\n",
    "    print(counts)\n",
    "    plt.figure(figsize=(10,4))\n",
    "    sns.barplot(x=counts.values, y=counts.index, orient='h')\n",
    "    plt.title(f'Top 20 {key} by Violation Count')\n",
    "    plt.xlabel('Violation Count')\n",
    "    plt.ylabel(key)\n",
    "    plt.tight_layout()\n",
    "    plt.show()"
   ]
  },
  {
   "cell_type": "code",
   "execution_count": 13,
   "id": "56f1db2b",
   "metadata": {},
   "outputs": [
    {
     "name": "stdout",
     "output_type": "stream",
     "text": [
      "No time-related columns found in the dataset. Please check the raw data or column names for time information.\n"
     ]
    }
   ],
   "source": [
    "# Diagnostic: If no time-related columns found, print a clear message\n",
    "if not fallback_keys:\n",
    "    print('No time-related columns found in the dataset. Please check the raw data or column names for time information.')"
   ]
  },
  {
   "cell_type": "markdown",
   "id": "4492f2ce",
   "metadata": {},
   "source": [
    "## 6. Summary, Hypothesis, and Actionable Insights\n",
    "\n",
    "- **Hypothesis:** Violation rates exhibit clear temporal patterns, with peaks at certain hours, days, or weekdays/weekends, likely reflecting traffic, enforcement, or operational schedules.\n",
    "- **Key Findings:**\n",
    "    - Summarize peaks and patterns by hour, day, and weekday.\n",
    "    - Note any limitations due to missing or ambiguous time data.\n",
    "- **Actionable Insights:**\n",
    "    - Recommend targeted enforcement or outreach during peak violation periods.\n",
    "    - Suggest further data collection or cleaning if time columns are sparse or inconsistent.\n",
    "\n",
    "*Edit this cell after running the analysis to reflect your actual findings.*"
   ]
  }
 ],
 "metadata": {
  "kernelspec": {
   "display_name": ".venv",
   "language": "python",
   "name": "python3"
  },
  "language_info": {
   "codemirror_mode": {
    "name": "ipython",
    "version": 3
   },
   "file_extension": ".py",
   "mimetype": "text/x-python",
   "name": "python",
   "nbconvert_exporter": "python",
   "pygments_lexer": "ipython3",
   "version": "3.12.11"
  }
 },
 "nbformat": 4,
 "nbformat_minor": 5
}
